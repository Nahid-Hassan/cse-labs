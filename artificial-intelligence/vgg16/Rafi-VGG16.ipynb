{
 "cells": [
  {
   "cell_type": "code",
   "execution_count": 1,
   "id": "006a2d19",
   "metadata": {},
   "outputs": [],
   "source": [
    "import os\n",
    "os.environ['TF_CPP_MIN_LOG_LEVEL'] = '3' "
   ]
  },
  {
   "cell_type": "code",
   "execution_count": 2,
   "id": "5b354c2c",
   "metadata": {},
   "outputs": [],
   "source": [
    "from keras.layers import Conv2D, MaxPooling2D\n",
    "from keras.layers import Flatten, Dense\n",
    "from keras import models"
   ]
  },
  {
   "cell_type": "code",
   "execution_count": 3,
   "id": "8c632563",
   "metadata": {},
   "outputs": [],
   "source": [
    "VGG_16 = models.Sequential([\n",
    "        Conv2D(input_shape=(224, 224, 3), filters=64, kernel_size=(3,3), padding='same', name='conv_layer_1'),\n",
    "        Conv2D(filters=64, kernel_size=(3,3), padding='same', name='conv_layer_2'),\n",
    "        MaxPooling2D((2,2), name='max_pooling_1'),\n",
    "        Conv2D(filters=128, kernel_size=(3,3), padding='same', name='conv_layer_3'),\n",
    "        Conv2D(filters=128, kernel_size=(3,3), padding='same', name='conv_layer_4'),\n",
    "        MaxPooling2D((2,2), name='max_pooling_2'),\n",
    "        Conv2D(filters=256, kernel_size=(3,3), padding='same', name='conv_layer_5'),\n",
    "        Conv2D(filters=256, kernel_size=(3,3), padding='same', name='conv_layer_6'),\n",
    "        Conv2D(filters=256, kernel_size=(3,3), padding='same', name='conv_layer_7'),\n",
    "        MaxPooling2D((2,2), name='max_pooling_3'),\n",
    "        Conv2D(filters=512, kernel_size=(3,3), padding='same', name='conv_layer_8'),\n",
    "        Conv2D(filters=512, kernel_size=(3,3), padding='same', name='conv_layer_9'),\n",
    "        Conv2D(filters=512, kernel_size=(3,3), padding='same', name='conv_layer_10'),\n",
    "        MaxPooling2D((2,2), name='max_pooling_4'),\n",
    "        Conv2D(filters=512, kernel_size=(3,3), padding='same', name='conv_layer_11'),\n",
    "        Conv2D(filters=512, kernel_size=(3,3), padding='same', name='conv_layer_12'),\n",
    "        Conv2D(filters=512, kernel_size=(3,3), padding='same', name='conv_layer_13'),\n",
    "        MaxPooling2D((2,2), name='max_pooling_5'),\n",
    "        Flatten(name=\"flatten_layer\"),\n",
    "        Dense(4096, activation='relu', name = \"fc_layer_1\"),\n",
    "        Dense(4096, activation='relu', name = \"fc_layer_2\"),\n",
    "        Dense(1000, activation='softmax', name = \"output_layer\")    \n",
    "    ])"
   ]
  },
  {
   "cell_type": "code",
   "execution_count": 4,
   "id": "0154b5cf",
   "metadata": {},
   "outputs": [
    {
     "name": "stdout",
     "output_type": "stream",
     "text": [
      "Model: \"sequential\"\n",
      "_________________________________________________________________\n",
      " Layer (type)                Output Shape              Param #   \n",
      "=================================================================\n",
      " conv_layer_1 (Conv2D)       (None, 224, 224, 64)      1792      \n",
      "                                                                 \n",
      " conv_layer_2 (Conv2D)       (None, 224, 224, 64)      36928     \n",
      "                                                                 \n",
      " max_pooling_1 (MaxPooling2D  (None, 112, 112, 64)     0         \n",
      " )                                                               \n",
      "                                                                 \n",
      " conv_layer_3 (Conv2D)       (None, 112, 112, 128)     73856     \n",
      "                                                                 \n",
      " conv_layer_4 (Conv2D)       (None, 112, 112, 128)     147584    \n",
      "                                                                 \n",
      " max_pooling_2 (MaxPooling2D  (None, 56, 56, 128)      0         \n",
      " )                                                               \n",
      "                                                                 \n",
      " conv_layer_5 (Conv2D)       (None, 56, 56, 256)       295168    \n",
      "                                                                 \n",
      " conv_layer_6 (Conv2D)       (None, 56, 56, 256)       590080    \n",
      "                                                                 \n",
      " conv_layer_7 (Conv2D)       (None, 56, 56, 256)       590080    \n",
      "                                                                 \n",
      " max_pooling_3 (MaxPooling2D  (None, 28, 28, 256)      0         \n",
      " )                                                               \n",
      "                                                                 \n",
      " conv_layer_8 (Conv2D)       (None, 28, 28, 512)       1180160   \n",
      "                                                                 \n",
      " conv_layer_9 (Conv2D)       (None, 28, 28, 512)       2359808   \n",
      "                                                                 \n",
      " conv_layer_10 (Conv2D)      (None, 28, 28, 512)       2359808   \n",
      "                                                                 \n",
      " max_pooling_4 (MaxPooling2D  (None, 14, 14, 512)      0         \n",
      " )                                                               \n",
      "                                                                 \n",
      " conv_layer_11 (Conv2D)      (None, 14, 14, 512)       2359808   \n",
      "                                                                 \n",
      " conv_layer_12 (Conv2D)      (None, 14, 14, 512)       2359808   \n",
      "                                                                 \n",
      " conv_layer_13 (Conv2D)      (None, 14, 14, 512)       2359808   \n",
      "                                                                 \n",
      " max_pooling_5 (MaxPooling2D  (None, 7, 7, 512)        0         \n",
      " )                                                               \n",
      "                                                                 \n",
      " flatten_layer (Flatten)     (None, 25088)             0         \n",
      "                                                                 \n",
      " fc_layer_1 (Dense)          (None, 4096)              102764544 \n",
      "                                                                 \n",
      " fc_layer_2 (Dense)          (None, 4096)              16781312  \n",
      "                                                                 \n",
      " output_layer (Dense)        (None, 1000)              4097000   \n",
      "                                                                 \n",
      "=================================================================\n",
      "Total params: 138,357,544\n",
      "Trainable params: 138,357,544\n",
      "Non-trainable params: 0\n",
      "_________________________________________________________________\n"
     ]
    }
   ],
   "source": [
    "VGG_16.summary()"
   ]
  }
 ],
 "metadata": {
  "kernelspec": {
   "display_name": "Python 3 (ipykernel)",
   "language": "python",
   "name": "python3"
  },
  "language_info": {
   "codemirror_mode": {
    "name": "ipython",
    "version": 3
   },
   "file_extension": ".py",
   "mimetype": "text/x-python",
   "name": "python",
   "nbconvert_exporter": "python",
   "pygments_lexer": "ipython3",
   "version": "3.10.6"
  }
 },
 "nbformat": 4,
 "nbformat_minor": 5
}
