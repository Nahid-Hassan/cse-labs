{
 "cells": [
  {
   "cell_type": "code",
   "execution_count": null,
   "id": "462cc209",
   "metadata": {},
   "outputs": [],
   "source": [
    "import os\n",
    "os.environ['TF_CPP_MIN_LOG_LEVEL'] = '3' "
   ]
  },
  {
   "cell_type": "code",
   "execution_count": 1,
   "id": "8998e0e6",
   "metadata": {},
   "outputs": [],
   "source": [
    "from keras import models\n",
    "from keras import layers"
   ]
  },
  {
   "cell_type": "code",
   "execution_count": 3,
   "id": "300ac427",
   "metadata": {},
   "outputs": [],
   "source": [
    "ann = models.Sequential([\n",
    "        layers.Flatten(input_shape=(756,)),\n",
    "        layers.Dense(16, activation='tanh'),\n",
    "        layers.Dense(32, activation='sigmoid'),\n",
    "        layers.Dense(64, activation='relu'),\n",
    "        layers.Dense(10, activation='softmax')    \n",
    "    ])"
   ]
  },
  {
   "cell_type": "code",
   "execution_count": 4,
   "id": "295166f7",
   "metadata": {},
   "outputs": [
    {
     "name": "stdout",
     "output_type": "stream",
     "text": [
      "Model: \"sequential\"\n",
      "_________________________________________________________________\n",
      " Layer (type)                Output Shape              Param #   \n",
      "=================================================================\n",
      " flatten (Flatten)           (None, 756)               0         \n",
      "                                                                 \n",
      " dense (Dense)               (None, 16)                12112     \n",
      "                                                                 \n",
      " dense_1 (Dense)             (None, 32)                544       \n",
      "                                                                 \n",
      " dense_2 (Dense)             (None, 64)                2112      \n",
      "                                                                 \n",
      " dense_3 (Dense)             (None, 10)                650       \n",
      "                                                                 \n",
      "=================================================================\n",
      "Total params: 15,418\n",
      "Trainable params: 15,418\n",
      "Non-trainable params: 0\n",
      "_________________________________________________________________\n"
     ]
    }
   ],
   "source": [
    "ann.summary()"
   ]
  },
  {
   "cell_type": "code",
   "execution_count": 5,
   "id": "abcc05b3",
   "metadata": {},
   "outputs": [],
   "source": [
    "for i, layer in enumerate(ann.layers):\n",
    "    if i == len(ann.layers) - 1:\n",
    "        layer._name = \"output_layer\"\n",
    "    else:\n",
    "        layer._name = 'layer' + str(i)"
   ]
  },
  {
   "cell_type": "code",
   "execution_count": 6,
   "id": "1e0af6bf",
   "metadata": {},
   "outputs": [
    {
     "name": "stdout",
     "output_type": "stream",
     "text": [
      "Model: \"sequential\"\n",
      "_________________________________________________________________\n",
      " Layer (type)                Output Shape              Param #   \n",
      "=================================================================\n",
      " layer_0 (Flatten)           (None, 756)               0         \n",
      "                                                                 \n",
      " layer_1 (Dense)             (None, 16)                12112     \n",
      "                                                                 \n",
      " layer_2 (Dense)             (None, 32)                544       \n",
      "                                                                 \n",
      " layer_3 (Dense)             (None, 64)                2112      \n",
      "                                                                 \n",
      " layer_4 (Dense)             (None, 10)                650       \n",
      "                                                                 \n",
      "=================================================================\n",
      "Total params: 15,418\n",
      "Trainable params: 15,418\n",
      "Non-trainable params: 0\n",
      "_________________________________________________________________\n"
     ]
    }
   ],
   "source": [
    "ann.summary()"
   ]
  }
 ],
 "metadata": {
  "kernelspec": {
   "display_name": "Python 3 (ipykernel)",
   "language": "python",
   "name": "python3"
  },
  "language_info": {
   "codemirror_mode": {
    "name": "ipython",
    "version": 3
   },
   "file_extension": ".py",
   "mimetype": "text/x-python",
   "name": "python",
   "nbconvert_exporter": "python",
   "pygments_lexer": "ipython3",
   "version": "3.10.6"
  }
 },
 "nbformat": 4,
 "nbformat_minor": 5
}
