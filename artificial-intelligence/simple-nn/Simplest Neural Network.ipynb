{
 "cells": [
  {
   "cell_type": "code",
   "execution_count": 1,
   "id": "462cc209",
   "metadata": {},
   "outputs": [],
   "source": [
    "import os\n",
    "os.environ['TF_CPP_MIN_LOG_LEVEL'] = '3' "
   ]
  },
  {
   "cell_type": "code",
   "execution_count": 2,
   "id": "8998e0e6",
   "metadata": {},
   "outputs": [],
   "source": [
    "from keras import models\n",
    "from keras import layers"
   ]
  },
  {
   "cell_type": "code",
   "execution_count": 7,
   "id": "300ac427",
   "metadata": {},
   "outputs": [],
   "source": [
    "ann = models.Sequential([\n",
    "        layers.Flatten(input_shape=(756,), name=\"input_layer\"),\n",
    "        layers.Dense(16, activation='tanh', name = \"hidden_layer_i\"),\n",
    "        layers.Dense(32, activation='sigmoid', name = \"hidden_layer_ii\"),\n",
    "        layers.Dense(64, activation='relu', name = \"hidden_layer_iii\"),\n",
    "        layers.Dense(10, activation='softmax', name = \"output_layer\")    \n",
    "    ])"
   ]
  },
  {
   "cell_type": "code",
   "execution_count": 8,
   "id": "295166f7",
   "metadata": {},
   "outputs": [
    {
     "name": "stdout",
     "output_type": "stream",
     "text": [
      "Model: \"sequential_4\"\n",
      "_________________________________________________________________\n",
      " Layer (type)                Output Shape              Param #   \n",
      "=================================================================\n",
      " input_layer (Flatten)       (None, 756)               0         \n",
      "                                                                 \n",
      " hidden_layer_i (Dense)      (None, 16)                12112     \n",
      "                                                                 \n",
      " hidden_layer_ii (Dense)     (None, 32)                544       \n",
      "                                                                 \n",
      " hidden_layer_iii (Dense)    (None, 64)                2112      \n",
      "                                                                 \n",
      " output_layer (Dense)        (None, 10)                650       \n",
      "                                                                 \n",
      "=================================================================\n",
      "Total params: 15,418\n",
      "Trainable params: 15,418\n",
      "Non-trainable params: 0\n",
      "_________________________________________________________________\n"
     ]
    }
   ],
   "source": [
    "ann.summary()"
   ]
  },
  {
   "cell_type": "markdown",
   "id": "1f5a6064",
   "metadata": {},
   "source": [
    "### Another way to set layers name in Tensorflow keras\n",
    "\n",
    "```py\n",
    "for i, layer in enumerate(ann.layers):\n",
    "    if i == len(ann.layers) - 1:\n",
    "        layer._name = \"output_layer\"\n",
    "    else:\n",
    "        layer._name = 'layer' + str(i)\n",
    "```\n",
    "ann.summary()"
   ]
  },
  {
   "cell_type": "code",
   "execution_count": null,
   "id": "a8d1d2a4",
   "metadata": {},
   "outputs": [],
   "source": []
  }
 ],
 "metadata": {
  "kernelspec": {
   "display_name": "Python 3 (ipykernel)",
   "language": "python",
   "name": "python3"
  },
  "language_info": {
   "codemirror_mode": {
    "name": "ipython",
    "version": 3
   },
   "file_extension": ".py",
   "mimetype": "text/x-python",
   "name": "python",
   "nbconvert_exporter": "python",
   "pygments_lexer": "ipython3",
   "version": "3.10.6"
  }
 },
 "nbformat": 4,
 "nbformat_minor": 5
}
