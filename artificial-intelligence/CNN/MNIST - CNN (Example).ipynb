{
 "cells": [
  {
   "cell_type": "code",
   "execution_count": 1,
   "metadata": {
    "id": "5UpEzxbhMdpa"
   },
   "outputs": [],
   "source": [
    "import os\n",
    "os.environ['TF_CPP_MIN_LOG_LEVEL'] = '3'\n",
    "\n",
    "import numpy as np                       \n",
    "import matplotlib.pyplot as plt          \n",
    "\n",
    "import tensorflow as tf\n",
    "from keras.preprocessing.image import ImageDataGenerator"
   ]
  },
  {
   "cell_type": "markdown",
   "metadata": {
    "id": "VBuKmvbtR9Nx"
   },
   "source": [
    "## Load dataset"
   ]
  },
  {
   "cell_type": "code",
   "execution_count": 2,
   "metadata": {
    "colab": {
     "base_uri": "https://localhost:8080/"
    },
    "id": "FHAEoD3dRWXC",
    "outputId": "85e6bbb5-eb04-47e1-8c6f-7fd1dc0c4298"
   },
   "outputs": [],
   "source": [
    "(x_train,y_train),(x_test,y_test) = tf.keras.datasets.mnist.load_data()\n",
    "\n",
    "x_train = x_train/255.0\n",
    "x_test = x_test/255.0"
   ]
  },
  {
   "cell_type": "markdown",
   "metadata": {
    "id": "q1y8U0WmAoV9"
   },
   "source": [
    "## Preprocessing"
   ]
  },
  {
   "cell_type": "code",
   "execution_count": 3,
   "metadata": {
    "id": "oPlsk2vrAxSJ"
   },
   "outputs": [],
   "source": [
    "datagen = ImageDataGenerator(\n",
    "    rotation_range = 10,\n",
    "    zoom_range = 0.1,\n",
    "    width_shift_range = 0.1,\n",
    "    height_shift_range= 0.1,\n",
    ")"
   ]
  },
  {
   "cell_type": "markdown",
   "metadata": {
    "id": "C31nezRmReFS"
   },
   "source": [
    "## Reshape the tainging and testing data and augmentation"
   ]
  },
  {
   "cell_type": "code",
   "execution_count": 4,
   "metadata": {
    "id": "KBHp-JhNRhcO"
   },
   "outputs": [],
   "source": [
    "datagen.fit(x_train.reshape((-1,28,28,1)))\n",
    "aug_train = datagen.flow(x_train.reshape((-1,28,28,1)),y_train, batch_size=32)\n",
    "\n",
    "datagen.fit(x_test.reshape((-1,28,28,1)))\n",
    "aug_test = datagen.flow(x_test.reshape((-1,28,28,1)),y_test,batch_size = 32)"
   ]
  },
  {
   "cell_type": "code",
   "execution_count": 5,
   "metadata": {
    "id": "OP1KWwWwRkzI"
   },
   "outputs": [],
   "source": [
    "cnn_model = tf.keras.Sequential([\n",
    "    tf.keras.layers.Conv2D(32,(3,3),activation='relu',padding='same',input_shape=(28,28,1)),\n",
    "    tf.keras.layers.MaxPooling2D((2,2)),\n",
    "    tf.keras.layers.Conv2D(64,(3,3),padding='same',activation='relu'),\n",
    "    tf.keras.layers.MaxPooling2D((2,2)),\n",
    "    \n",
    "    tf.keras.layers.Flatten(),\n",
    "    tf.keras.layers.Dense(64,activation='relu'),\n",
    "    tf.keras.layers.Dense(10,activation='softmax')\n",
    "])\n",
    "\n",
    "\n",
    "cnn_model.compile(\n",
    "    optimizer = 'adam',\n",
    "    loss = 'sparse_categorical_crossentropy',\n",
    "    metrics=['accuracy']\n",
    ")"
   ]
  },
  {
   "cell_type": "code",
   "execution_count": 6,
   "metadata": {},
   "outputs": [
    {
     "name": "stdout",
     "output_type": "stream",
     "text": [
      "Model: \"sequential\"\n",
      "_________________________________________________________________\n",
      " Layer (type)                Output Shape              Param #   \n",
      "=================================================================\n",
      " conv2d (Conv2D)             (None, 28, 28, 32)        320       \n",
      "                                                                 \n",
      " max_pooling2d (MaxPooling2D  (None, 14, 14, 32)       0         \n",
      " )                                                               \n",
      "                                                                 \n",
      " conv2d_1 (Conv2D)           (None, 14, 14, 64)        18496     \n",
      "                                                                 \n",
      " max_pooling2d_1 (MaxPooling  (None, 7, 7, 64)         0         \n",
      " 2D)                                                             \n",
      "                                                                 \n",
      " flatten (Flatten)           (None, 3136)              0         \n",
      "                                                                 \n",
      " dense (Dense)               (None, 64)                200768    \n",
      "                                                                 \n",
      " dense_1 (Dense)             (None, 10)                650       \n",
      "                                                                 \n",
      "=================================================================\n",
      "Total params: 220,234\n",
      "Trainable params: 220,234\n",
      "Non-trainable params: 0\n",
      "_________________________________________________________________\n"
     ]
    }
   ],
   "source": [
    "cnn_model.summary()"
   ]
  },
  {
   "cell_type": "markdown",
   "metadata": {
    "id": "Qa4axhRNSBD-"
   },
   "source": [
    "## Train the model "
   ]
  },
  {
   "cell_type": "code",
   "execution_count": 6,
   "metadata": {
    "colab": {
     "base_uri": "https://localhost:8080/"
    },
    "id": "GXUv8FqDSCvU",
    "outputId": "0bfeadb6-2920-46b1-8e2e-b94b29cdb245"
   },
   "outputs": [
    {
     "name": "stdout",
     "output_type": "stream",
     "text": [
      "Epoch 1/10\n",
      "1875/1875 [==============================] - 51s 27ms/step - loss: 0.2522 - accuracy: 0.9204\n",
      "Epoch 2/10\n",
      "1875/1875 [==============================] - 45s 24ms/step - loss: 0.0891 - accuracy: 0.9731\n",
      "Epoch 3/10\n",
      "1875/1875 [==============================] - 44s 24ms/step - loss: 0.0683 - accuracy: 0.9791\n",
      "Epoch 4/10\n",
      "1875/1875 [==============================] - 44s 23ms/step - loss: 0.0578 - accuracy: 0.9815\n",
      "Epoch 5/10\n",
      "1875/1875 [==============================] - 45s 24ms/step - loss: 0.0499 - accuracy: 0.9848\n",
      "Epoch 6/10\n",
      "1875/1875 [==============================] - 46s 24ms/step - loss: 0.0441 - accuracy: 0.9863\n",
      "Epoch 7/10\n",
      "1875/1875 [==============================] - 46s 25ms/step - loss: 0.0399 - accuracy: 0.9878\n",
      "Epoch 8/10\n",
      "1875/1875 [==============================] - 47s 25ms/step - loss: 0.0377 - accuracy: 0.9884\n",
      "Epoch 9/10\n",
      "1875/1875 [==============================] - 48s 26ms/step - loss: 0.0348 - accuracy: 0.9890\n",
      "Epoch 10/10\n",
      "1875/1875 [==============================] - 47s 25ms/step - loss: 0.0348 - accuracy: 0.9895\n"
     ]
    },
    {
     "data": {
      "text/plain": [
       "<keras.callbacks.History at 0x7ff38cc6f910>"
      ]
     },
     "execution_count": 6,
     "metadata": {},
     "output_type": "execute_result"
    }
   ],
   "source": [
    "cnn_model.fit(aug_train,epochs=10)"
   ]
  },
  {
   "cell_type": "markdown",
   "metadata": {
    "id": "tK79HOfvSJHM"
   },
   "source": [
    "## Evaluate the model on the test data\n"
   ]
  },
  {
   "cell_type": "code",
   "execution_count": 7,
   "metadata": {
    "colab": {
     "base_uri": "https://localhost:8080/"
    },
    "id": "8xI1DakTSIqc",
    "outputId": "4b56317e-a577-4d5b-eec2-ab1cc7bccbe5"
   },
   "outputs": [
    {
     "name": "stdout",
     "output_type": "stream",
     "text": [
      "313/313 [==============================] - 5s 15ms/step - loss: 0.0338 - accuracy: 0.9894\n"
     ]
    },
    {
     "data": {
      "text/plain": [
       "[0.03376393765211105, 0.9894000291824341]"
      ]
     },
     "execution_count": 7,
     "metadata": {},
     "output_type": "execute_result"
    }
   ],
   "source": [
    "cnn_model.evaluate(aug_test)"
   ]
  }
 ],
 "metadata": {
  "accelerator": "GPU",
  "colab": {
   "provenance": []
  },
  "gpuClass": "standard",
  "kernelspec": {
   "display_name": "Python 3 (ipykernel)",
   "language": "python",
   "name": "python3"
  },
  "language_info": {
   "codemirror_mode": {
    "name": "ipython",
    "version": 3
   },
   "file_extension": ".py",
   "mimetype": "text/x-python",
   "name": "python",
   "nbconvert_exporter": "python",
   "pygments_lexer": "ipython3",
   "version": "3.10.6"
  }
 },
 "nbformat": 4,
 "nbformat_minor": 1
}
