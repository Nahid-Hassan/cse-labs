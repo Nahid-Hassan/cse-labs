{
 "cells": [
  {
   "cell_type": "code",
   "execution_count": 1,
   "id": "13b10331",
   "metadata": {},
   "outputs": [
    {
     "name": "stderr",
     "output_type": "stream",
     "text": [
      "2023-04-06 12:15:23.914205: I tensorflow/tsl/cuda/cudart_stub.cc:28] Could not find cuda drivers on your machine, GPU will not be used.\n",
      "2023-04-06 12:15:23.973626: I tensorflow/tsl/cuda/cudart_stub.cc:28] Could not find cuda drivers on your machine, GPU will not be used.\n",
      "2023-04-06 12:15:23.974785: I tensorflow/core/platform/cpu_feature_guard.cc:182] This TensorFlow binary is optimized to use available CPU instructions in performance-critical operations.\n",
      "To enable the following instructions: AVX2 FMA, in other operations, rebuild TensorFlow with the appropriate compiler flags.\n",
      "2023-04-06 12:15:24.931127: W tensorflow/compiler/tf2tensorrt/utils/py_utils.cc:38] TF-TRT Warning: Could not find TensorRT\n"
     ]
    },
    {
     "name": "stdout",
     "output_type": "stream",
     "text": [
      "<keras.engine.input_layer.InputLayer object at 0x7f0eeac02a10>\n",
      "<keras.layers.convolutional.conv2d.Conv2D object at 0x7f0e678e6020>\n",
      "<keras.layers.convolutional.conv2d.Conv2D object at 0x7f0e678e6770>\n",
      "<keras.layers.pooling.max_pooling2d.MaxPooling2D object at 0x7f0e678e78b0>\n",
      "<keras.layers.convolutional.conv2d.Conv2D object at 0x7f0e678e6c80>\n",
      "<keras.layers.convolutional.conv2d.Conv2D object at 0x7f0e678e7c70>\n",
      "<keras.layers.pooling.max_pooling2d.MaxPooling2D object at 0x7f0e66f283a0>\n",
      "<keras.layers.convolutional.conv2d.Conv2D object at 0x7f0e66f2a020>\n",
      "<keras.layers.convolutional.conv2d.Conv2D object at 0x7f0e66f2b100>\n",
      "<keras.layers.convolutional.conv2d.Conv2D object at 0x7f0e66f2bee0>\n",
      "<keras.layers.pooling.max_pooling2d.MaxPooling2D object at 0x7f0e66f48520>\n",
      "<keras.layers.convolutional.conv2d.Conv2D object at 0x7f0e66f2a380>\n",
      "<keras.layers.convolutional.conv2d.Conv2D object at 0x7f0e66f2aef0>\n",
      "<keras.layers.convolutional.conv2d.Conv2D object at 0x7f0e66f48a30>\n",
      "<keras.layers.pooling.max_pooling2d.MaxPooling2D object at 0x7f0e66f4b130>\n",
      "<keras.layers.convolutional.conv2d.Conv2D object at 0x7f0e66f4b910>\n",
      "<keras.layers.convolutional.conv2d.Conv2D object at 0x7f0e66f4b1f0>\n",
      "<keras.layers.convolutional.conv2d.Conv2D object at 0x7f0e66f4a380>\n",
      "<keras.layers.pooling.max_pooling2d.MaxPooling2D object at 0x7f0e66f28700>\n"
     ]
    }
   ],
   "source": [
    "from keras.applications import VGG16\n",
    "from keras.layers import Dense, Flatten\n",
    "from keras.models import Model\n",
    "import tensorflow as tf\n",
    "from keras.preprocessing.image import ImageDataGenerator\n",
    "\n",
    "\n",
    "# Load the pre-trained VGG16 model\n",
    "vgg_model = VGG16(weights='imagenet', include_top=False, input_shape=(224, 224, 3))\n",
    "\n",
    "# Freeze the layers of the VGG16 model\n",
    "for layer in vgg_model.layers:\n",
    "    print(layer)\n",
    "    layer.trainable = False\n",
    "\n",
    "# Add your own output layers on top of the VGG16 model\n",
    "x = Flatten()(vgg_model.output)\n",
    "x = Dense(256, activation='relu')(x)\n",
    "x = Dense(1, activation='sigmoid')(x)\n",
    "\n",
    "# Create a new model that includes the VGG16 model and your output layers\n",
    "model = Model(inputs=vgg_model.input, outputs=x)\n",
    "\n",
    "# Compile the model with your chosen loss function, optimizer, and metrics\n",
    "model.compile(loss='binary_crossentropy', optimizer='adam', metrics=['accuracy'])"
   ]
  },
  {
   "cell_type": "code",
   "execution_count": null,
   "id": "9be648a7",
   "metadata": {},
   "outputs": [
    {
     "name": "stdout",
     "output_type": "stream",
     "text": [
      "Epoch 1/5\n"
     ]
    },
    {
     "name": "stderr",
     "output_type": "stream",
     "text": [
      "2023-04-06 12:15:27.336047: I tensorflow/core/common_runtime/executor.cc:1197] [/device:CPU:0] (DEBUG INFO) Executor start aborting (this does not indicate an error and you can ignore this message): INVALID_ARGUMENT: You must feed a value for placeholder tensor 'Placeholder/_0' with dtype int32\n",
      "\t [[{{node Placeholder/_0}}]]\n"
     ]
    }
   ],
   "source": [
    "(x_train,y_train),(x_test,y_test) = tf.keras.datasets.mnist.load_data()\n",
    "\n",
    "x_train = x_train/255.0\n",
    "x_test = x_test/255.0\n",
    "\n",
    "datagen = ImageDataGenerator(\n",
    "    rotation_range = 10,\n",
    "    zoom_range = 0.1,\n",
    "    width_shift_range = 0.1,\n",
    "    height_shift_range= 0.1,\n",
    ")\n",
    "\n",
    "datagen.fit(x_train.reshape((-1,28,28,1)))\n",
    "aug_train = datagen.flow(x_train.reshape((-1,28,28,1)),y_train, batch_size=32)\n",
    "\n",
    "datagen.fit(x_test.reshape((-1,28,28,1)))\n",
    "aug_test = datagen.flow(x_test.reshape((-1,28,28,1)),y_test,batch_size = 32)\n",
    "\n",
    "model.fit(aug_train,epochs=5)"
   ]
  },
  {
   "cell_type": "code",
   "execution_count": null,
   "id": "e64feaae",
   "metadata": {},
   "outputs": [],
   "source": []
  },
  {
   "cell_type": "code",
   "execution_count": null,
   "id": "31054094",
   "metadata": {},
   "outputs": [],
   "source": []
  }
 ],
 "metadata": {
  "kernelspec": {
   "display_name": "Python 3 (ipykernel)",
   "language": "python",
   "name": "python3"
  },
  "language_info": {
   "codemirror_mode": {
    "name": "ipython",
    "version": 3
   },
   "file_extension": ".py",
   "mimetype": "text/x-python",
   "name": "python",
   "nbconvert_exporter": "python",
   "pygments_lexer": "ipython3",
   "version": "3.10.6"
  }
 },
 "nbformat": 4,
 "nbformat_minor": 5
}
