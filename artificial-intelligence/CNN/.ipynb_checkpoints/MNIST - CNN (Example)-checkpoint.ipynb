{
 "cells": [
  {
   "cell_type": "code",
   "execution_count": 1,
   "metadata": {
    "id": "5UpEzxbhMdpa"
   },
   "outputs": [],
   "source": [
    "import os\n",
    "os.environ['TF_CPP_MIN_LOG_LEVEL'] = '3'\n",
    "\n",
    "import numpy as np                       \n",
    "import matplotlib.pyplot as plt          \n",
    "\n",
    "import tensorflow as tf\n",
    "from keras.preprocessing.image import ImageDataGenerator"
   ]
  },
  {
   "cell_type": "markdown",
   "metadata": {
    "id": "VBuKmvbtR9Nx"
   },
   "source": [
    "# Load the MNIST dataset"
   ]
  },
  {
   "cell_type": "code",
   "execution_count": 3,
   "metadata": {
    "colab": {
     "base_uri": "https://localhost:8080/"
    },
    "id": "FHAEoD3dRWXC",
    "outputId": "85e6bbb5-eb04-47e1-8c6f-7fd1dc0c4298"
   },
   "outputs": [
    {
     "name": "stdout",
     "output_type": "stream",
     "text": [
      "Downloading data from https://storage.googleapis.com/tensorflow/tf-keras-datasets/mnist.npz\n",
      "11490434/11490434 [==============================] - 20s 2us/step\n"
     ]
    }
   ],
   "source": [
    "(x_train,y_train),(x_test,y_test) = tf.keras.datasets.mnist.load_data()\n",
    "\n",
    "x_train = x_train/255.0\n",
    "x_test = x_test/255.0"
   ]
  },
  {
   "cell_type": "markdown",
   "metadata": {
    "id": "q1y8U0WmAoV9"
   },
   "source": [
    "# **Data Augmentation function**"
   ]
  },
  {
   "cell_type": "code",
   "execution_count": 5,
   "metadata": {
    "id": "oPlsk2vrAxSJ"
   },
   "outputs": [],
   "source": [
    "datagen = ImageDataGenerator(\n",
    "    rotation_range = 10,\n",
    "    zoom_range = 0.1,\n",
    "    width_shift_range = 0.1,\n",
    "    height_shift_range= 0.1,\n",
    ")"
   ]
  },
  {
   "cell_type": "markdown",
   "metadata": {
    "id": "C31nezRmReFS"
   },
   "source": [
    "# Reshape the tainging and testing data and augmentation"
   ]
  },
  {
   "cell_type": "code",
   "execution_count": 6,
   "metadata": {
    "id": "KBHp-JhNRhcO"
   },
   "outputs": [],
   "source": [
    "datagen.fit(x_train.reshape((-1,28,28,1)))\n",
    "aug_train = datagen.flow(x_train.reshape((-1,28,28,1)),y_train, batch_size=32)\n",
    "\n",
    "datagen.fit(x_test.reshape((-1,28,28,1)))\n",
    "aug_test = datagen.flow(x_test.reshape((-1,28,28,1)),y_test,batch_size = 32)"
   ]
  },
  {
   "cell_type": "markdown",
   "metadata": {
    "id": "eR-ASFdgRlPA"
   },
   "source": [
    "# **Create the CNN model and Compilation**\n",
    "1.   Two convo2d layer with (3,3) filter,and maxpolling (2,2), for feature extraction \n",
    "2.   Two dense layer with 64 and 10 neuron,**for classification**\n"
   ]
  },
  {
   "cell_type": "code",
   "execution_count": null,
   "metadata": {
    "id": "OP1KWwWwRkzI"
   },
   "outputs": [],
   "source": [
    "from keras.layers.serialization import activation\n",
    "\n",
    "cnn_model = keras.Sequential([\n",
    "    keras.layers.Conv2D(32,(3,3),activation='relu',padding='same',input_shape=(28,28,1)),\n",
    "    keras.layers.MaxPooling2D((2,2)),\n",
    "    keras.layers.Conv2D(64,(3,3),padding='same',activation='relu'),\n",
    "    keras.layers.MaxPooling2D((2,2)),\n",
    "    \n",
    "    keras.layers.Flatten(),\n",
    "    keras.layers.Dense(64,activation='relu'),\n",
    "    keras.layers.Dense(10,activation='softmax')\n",
    "    ])\n",
    "\n",
    "\n",
    "cnn_model.compile(\n",
    "    optimizer = 'adam',\n",
    "    loss = 'sparse_categorical_crossentropy',\n",
    "    metrics=['accuracy']\n",
    ")"
   ]
  },
  {
   "cell_type": "markdown",
   "metadata": {
    "id": "Qa4axhRNSBD-"
   },
   "source": [
    "# Train the model "
   ]
  },
  {
   "cell_type": "code",
   "execution_count": null,
   "metadata": {
    "colab": {
     "base_uri": "https://localhost:8080/"
    },
    "id": "GXUv8FqDSCvU",
    "outputId": "0bfeadb6-2920-46b1-8e2e-b94b29cdb245"
   },
   "outputs": [
    {
     "name": "stdout",
     "output_type": "stream",
     "text": [
      "Epoch 1/20\n",
      "1875/1875 [==============================] - 35s 13ms/step - loss: 0.2534 - accuracy: 0.9198\n",
      "Epoch 2/20\n",
      "1875/1875 [==============================] - 25s 13ms/step - loss: 0.0936 - accuracy: 0.9714\n",
      "Epoch 3/20\n",
      "1875/1875 [==============================] - 24s 13ms/step - loss: 0.0695 - accuracy: 0.9783\n",
      "Epoch 4/20\n",
      "1875/1875 [==============================] - 25s 13ms/step - loss: 0.0572 - accuracy: 0.9817\n",
      "Epoch 5/20\n",
      "1875/1875 [==============================] - 26s 14ms/step - loss: 0.0496 - accuracy: 0.9846\n",
      "Epoch 6/20\n",
      "1875/1875 [==============================] - 26s 14ms/step - loss: 0.0459 - accuracy: 0.9851\n",
      "Epoch 7/20\n",
      "1875/1875 [==============================] - 25s 13ms/step - loss: 0.0413 - accuracy: 0.9871\n",
      "Epoch 8/20\n",
      "1875/1875 [==============================] - 25s 13ms/step - loss: 0.0377 - accuracy: 0.9883\n",
      "Epoch 9/20\n",
      "1875/1875 [==============================] - 26s 14ms/step - loss: 0.0345 - accuracy: 0.9893\n",
      "Epoch 10/20\n",
      "1875/1875 [==============================] - 26s 14ms/step - loss: 0.0344 - accuracy: 0.9890\n",
      "Epoch 11/20\n",
      "1875/1875 [==============================] - 25s 13ms/step - loss: 0.0316 - accuracy: 0.9900\n",
      "Epoch 12/20\n",
      "1875/1875 [==============================] - 25s 13ms/step - loss: 0.0301 - accuracy: 0.9905\n",
      "Epoch 13/20\n",
      "1875/1875 [==============================] - 25s 13ms/step - loss: 0.0290 - accuracy: 0.9909\n",
      "Epoch 14/20\n",
      "1875/1875 [==============================] - 25s 13ms/step - loss: 0.0291 - accuracy: 0.9908\n",
      "Epoch 15/20\n",
      "1875/1875 [==============================] - 25s 13ms/step - loss: 0.0270 - accuracy: 0.9910\n",
      "Epoch 16/20\n",
      "1875/1875 [==============================] - 24s 13ms/step - loss: 0.0268 - accuracy: 0.9914\n",
      "Epoch 17/20\n",
      "1875/1875 [==============================] - 24s 13ms/step - loss: 0.0259 - accuracy: 0.9916\n",
      "Epoch 18/20\n",
      "1875/1875 [==============================] - 25s 13ms/step - loss: 0.0253 - accuracy: 0.9922\n",
      "Epoch 19/20\n",
      "1875/1875 [==============================] - 25s 13ms/step - loss: 0.0240 - accuracy: 0.9924\n",
      "Epoch 20/20\n",
      "1875/1875 [==============================] - 25s 13ms/step - loss: 0.0234 - accuracy: 0.9929\n"
     ]
    },
    {
     "data": {
      "text/plain": [
       "<keras.callbacks.History at 0x7f7298610d60>"
      ]
     },
     "execution_count": 7,
     "metadata": {},
     "output_type": "execute_result"
    }
   ],
   "source": [
    "model.fit(augmented_train,epochs=20)"
   ]
  },
  {
   "cell_type": "code",
   "execution_count": null,
   "metadata": {
    "colab": {
     "base_uri": "https://localhost:8080/"
    },
    "id": "zj8_fjT8SjHr",
    "outputId": "dc5423f9-3558-41a9-8971-749696670285"
   },
   "outputs": [
    {
     "name": "stdout",
     "output_type": "stream",
     "text": [
      "Model: \"sequential\"\n",
      "_________________________________________________________________\n",
      " Layer (type)                Output Shape              Param #   \n",
      "=================================================================\n",
      " conv2d (Conv2D)             (None, 28, 28, 32)        320       \n",
      "                                                                 \n",
      " max_pooling2d (MaxPooling2D  (None, 14, 14, 32)       0         \n",
      " )                                                               \n",
      "                                                                 \n",
      " conv2d_1 (Conv2D)           (None, 14, 14, 64)        18496     \n",
      "                                                                 \n",
      " max_pooling2d_1 (MaxPooling  (None, 7, 7, 64)         0         \n",
      " 2D)                                                             \n",
      "                                                                 \n",
      " flatten (Flatten)           (None, 3136)              0         \n",
      "                                                                 \n",
      " dense (Dense)               (None, 64)                200768    \n",
      "                                                                 \n",
      " dense_1 (Dense)             (None, 10)                650       \n",
      "                                                                 \n",
      "=================================================================\n",
      "Total params: 220,234\n",
      "Trainable params: 220,234\n",
      "Non-trainable params: 0\n",
      "_________________________________________________________________\n"
     ]
    }
   ],
   "source": [
    "model.summary()"
   ]
  },
  {
   "cell_type": "markdown",
   "metadata": {
    "id": "tK79HOfvSJHM"
   },
   "source": [
    "# Evaluate the model on the test data\n"
   ]
  },
  {
   "cell_type": "code",
   "execution_count": null,
   "metadata": {
    "colab": {
     "base_uri": "https://localhost:8080/"
    },
    "id": "8xI1DakTSIqc",
    "outputId": "4b56317e-a577-4d5b-eec2-ab1cc7bccbe5"
   },
   "outputs": [
    {
     "name": "stdout",
     "output_type": "stream",
     "text": [
      "313/313 [==============================] - 4s 11ms/step - loss: 0.0318 - accuracy: 0.9901\n"
     ]
    },
    {
     "data": {
      "text/plain": [
       "[0.03180097043514252, 0.9901000261306763]"
      ]
     },
     "execution_count": 13,
     "metadata": {},
     "output_type": "execute_result"
    }
   ],
   "source": [
    "model.evaluate(augmented_test)"
   ]
  }
 ],
 "metadata": {
  "accelerator": "GPU",
  "colab": {
   "provenance": []
  },
  "gpuClass": "standard",
  "kernelspec": {
   "display_name": "Python 3 (ipykernel)",
   "language": "python",
   "name": "python3"
  },
  "language_info": {
   "codemirror_mode": {
    "name": "ipython",
    "version": 3
   },
   "file_extension": ".py",
   "mimetype": "text/x-python",
   "name": "python",
   "nbconvert_exporter": "python",
   "pygments_lexer": "ipython3",
   "version": "3.10.6"
  }
 },
 "nbformat": 4,
 "nbformat_minor": 1
}
