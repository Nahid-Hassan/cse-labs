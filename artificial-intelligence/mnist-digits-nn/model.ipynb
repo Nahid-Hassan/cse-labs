{
 "cells": [
  {
   "cell_type": "code",
   "execution_count": 1,
   "metadata": {},
   "outputs": [],
   "source": [
    "# Hide log information\n",
    "import os\n",
    "os.environ['TF_CPP_MIN_LOG_LEVEL'] = '3'\n",
    "\n",
    "# import tensorflow\n",
    "import tensorflow as tf"
   ]
  },
  {
   "cell_type": "code",
   "execution_count": 2,
   "metadata": {},
   "outputs": [
    {
     "data": {
      "text/plain": [
       "((60000, 28, 28), (10000, 28, 28))"
      ]
     },
     "execution_count": 2,
     "metadata": {},
     "output_type": "execute_result"
    }
   ],
   "source": [
    "# load mnist dataset\n",
    "mnist = tf.keras.datasets.mnist\n",
    "(training_images, training_labels), (test_images, test_labels) = mnist.load_data()\n",
    "\n",
    "# scale or normalize the datasets\n",
    "training_images=training_images/255.0\n",
    "test_images=test_images/255.0\n",
    "\n",
    "training_images.shape, test_images.shape"
   ]
  },
  {
   "cell_type": "code",
   "execution_count": 3,
   "metadata": {},
   "outputs": [],
   "source": [
    "# create model\n",
    "model = tf.keras.models.Sequential([\n",
    "  tf.keras.layers.Flatten(),            # 28 * 28 => (784,1)\n",
    "  tf.keras.layers.Dense(128, activation=tf.nn.relu),\n",
    "  tf.keras.layers.Dense(64, activation=tf.nn.relu),\n",
    "  tf.keras.layers.Dense(32, activation=tf.nn.relu),\n",
    "  tf.keras.layers.Dense(10, activation=tf.nn.softmax)\n",
    "])"
   ]
  },
  {
   "cell_type": "code",
   "execution_count": 4,
   "metadata": {},
   "outputs": [],
   "source": [
    "# compile model\n",
    "model.compile(optimizer='adam', loss='sparse_categorical_crossentropy', metrics=['accuracy'])"
   ]
  },
  {
   "cell_type": "code",
   "execution_count": 5,
   "metadata": {},
   "outputs": [
    {
     "name": "stdout",
     "output_type": "stream",
     "text": [
      "Epoch 1/10\n",
      "1875/1875 [==============================] - 7s 3ms/step - loss: 0.2446 - accuracy: 0.9279\n",
      "Epoch 2/10\n",
      "1875/1875 [==============================] - 5s 3ms/step - loss: 0.1076 - accuracy: 0.9677\n",
      "Epoch 3/10\n",
      "1875/1875 [==============================] - 8s 4ms/step - loss: 0.0771 - accuracy: 0.9761\n",
      "Epoch 4/10\n",
      "1875/1875 [==============================] - 7s 3ms/step - loss: 0.0585 - accuracy: 0.9813\n",
      "Epoch 5/10\n",
      "1875/1875 [==============================] - 5s 3ms/step - loss: 0.0481 - accuracy: 0.9847\n",
      "Epoch 6/10\n",
      "1875/1875 [==============================] - 6s 3ms/step - loss: 0.0404 - accuracy: 0.9866\n",
      "Epoch 7/10\n",
      "1875/1875 [==============================] - 6s 3ms/step - loss: 0.0326 - accuracy: 0.9890\n",
      "Epoch 8/10\n",
      "1875/1875 [==============================] - 8s 4ms/step - loss: 0.0290 - accuracy: 0.9905\n",
      "Epoch 9/10\n",
      "1875/1875 [==============================] - 8s 4ms/step - loss: 0.0266 - accuracy: 0.9912\n",
      "Epoch 10/10\n",
      "1875/1875 [==============================] - 6s 3ms/step - loss: 0.0247 - accuracy: 0.9917\n"
     ]
    }
   ],
   "source": [
    "# fit model\n",
    "history = model.fit(training_images, training_labels, epochs=10)"
   ]
  },
  {
   "cell_type": "code",
   "execution_count": 6,
   "metadata": {},
   "outputs": [
    {
     "name": "stdout",
     "output_type": "stream",
     "text": [
      "313/313 [==============================] - 1s 3ms/step - loss: 0.1062 - accuracy: 0.9727\n"
     ]
    }
   ],
   "source": [
    "# evaluate model\n",
    "out = model.evaluate(test_images, test_labels)"
   ]
  },
  {
   "cell_type": "code",
   "execution_count": 7,
   "metadata": {},
   "outputs": [
    {
     "name": "stdout",
     "output_type": "stream",
     "text": [
      "Model: \"sequential\"\n",
      "_________________________________________________________________\n",
      " Layer (type)                Output Shape              Param #   \n",
      "=================================================================\n",
      " flatten (Flatten)           (None, 784)               0         \n",
      "                                                                 \n",
      " dense (Dense)               (None, 128)               100480    \n",
      "                                                                 \n",
      " dense_1 (Dense)             (None, 64)                8256      \n",
      "                                                                 \n",
      " dense_2 (Dense)             (None, 32)                2080      \n",
      "                                                                 \n",
      " dense_3 (Dense)             (None, 10)                330       \n",
      "                                                                 \n",
      "=================================================================\n",
      "Total params: 111,146\n",
      "Trainable params: 111,146\n",
      "Non-trainable params: 0\n",
      "_________________________________________________________________\n"
     ]
    }
   ],
   "source": [
    "model.summary()"
   ]
  },
  {
   "cell_type": "code",
   "execution_count": 8,
   "metadata": {},
   "outputs": [
    {
     "name": "stdout",
     "output_type": "stream",
     "text": [
      "Model Accuracy: 0.9726999998092651\n",
      "Model Loss:     0.1062251478433609\n"
     ]
    }
   ],
   "source": [
    "print(\"Model Accuracy: {}\".format(out[1]))\n",
    "print(\"Model Loss:     {}\".format(out[0]))"
   ]
  },
  {
   "cell_type": "code",
   "execution_count": 9,
   "metadata": {},
   "outputs": [
    {
     "data": {
      "text/plain": [
       "dict_keys(['loss', 'accuracy'])"
      ]
     },
     "execution_count": 9,
     "metadata": {},
     "output_type": "execute_result"
    }
   ],
   "source": [
    "history.history.keys()"
   ]
  },
  {
   "cell_type": "code",
   "execution_count": 10,
   "metadata": {},
   "outputs": [
    {
     "data": {
      "image/png": "[encoded data removed]",
      "text/plain": [
       "<Figure size 720x360 with 2 Axes>"
      ]
     },
     "metadata": {
      "needs_background": "light"
     },
     "output_type": "display_data"
    }
   ],
   "source": [
    "import matplotlib.pyplot as plt\n",
    "\n",
    "loss_values = history.history['loss']\n",
    "accuracy_values = history.history['accuracy']\n",
    "\n",
    "fig, (ax1, ax2) = plt.subplots(1, 2, figsize=(10, 5))\n",
    "\n",
    "ax1.plot(loss_values)\n",
    "ax1.set_xlabel('Epoch')\n",
    "ax1.set_ylabel('Loss')\n",
    "ax1.set_title('Loss over time')\n",
    "\n",
    "ax2.plot(accuracy_values)\n",
    "ax2.set_xlabel('Epoch')\n",
    "ax2.set_ylabel('Accuracy')\n",
    "ax2.set_title('Accuracy over time')\n",
    "\n",
    "plt.show()\n"
   ]
  },
  {
   "cell_type": "code",
   "execution_count": 11,
   "metadata": {},
   "outputs": [
    {
     "data": {
      "text/plain": [
       "[<tf.Variable 'dense/kernel:0' shape=(784, 128) dtype=float32, numpy=\n",
       " array([[-0.00710479,  0.0647923 ,  0.06554195, ...,  0.01023574,\n",
       "          0.06290372,  0.00389034],\n",
       "        [ 0.04380562,  0.02867319,  0.06819773, ...,  0.05965597,\n",
       "         -0.02171589, -0.02581802],\n",
       "        [ 0.06452244, -0.01537387, -0.06841554, ..., -0.03622957,\n",
       "         -0.07788622, -0.05815158],\n",
       "        ...,\n",
       "        [ 0.02224897,  0.00908987,  0.02125449, ...,  0.01127827,\n",
       "          0.03639286,  0.05850831],\n",
       "        [ 0.03497484, -0.05461101,  0.00395155, ...,  0.04313514,\n",
       "          0.01870967,  0.00221404],\n",
       "        [ 0.06028897, -0.04312638, -0.06440385, ..., -0.01781458,\n",
       "          0.02552317,  0.02227161]], dtype=float32)>,\n",
       " <tf.Variable 'dense/bias:0' shape=(128,) dtype=float32, numpy=\n",
       " array([-0.0446714 , -0.02928768, -0.00054314,  0.10382634, -0.12290275,\n",
       "        -0.05824015, -0.01393295,  0.13150504,  0.06325123,  0.02782784,\n",
       "         0.23389916, -0.08705961,  0.05358259,  0.08523729, -0.19266656,\n",
       "        -0.12108082,  0.12163472, -0.07919811, -0.1735063 ,  0.02581378,\n",
       "        -0.05455773, -0.0155485 , -0.04231859,  0.134207  , -0.13285281,\n",
       "        -0.00461312, -0.01337483, -0.03558193,  0.10127297,  0.22374922,\n",
       "        -0.01672892,  0.0211268 , -0.02476854, -0.0593963 ,  0.05598282,\n",
       "         0.05737107,  0.09214108,  0.00091354,  0.0106885 ,  0.10569045,\n",
       "        -0.07054688, -0.10778808, -0.01846502,  0.02773218,  0.09300745,\n",
       "         0.06039445, -0.0017599 , -0.06457403, -0.00400664, -0.05671014,\n",
       "        -0.16173136, -0.01497621,  0.0869723 ,  0.04842861, -0.05882004,\n",
       "        -0.04775697, -0.05766796, -0.08522064,  0.07175696,  0.07698276,\n",
       "        -0.07799387,  0.02979984, -0.13188371, -0.05011806, -0.08146703,\n",
       "        -0.05816605,  0.0466757 ,  0.03657245, -0.11465347,  0.07013734,\n",
       "        -0.03277116, -0.02598288,  0.12395242,  0.04232113,  0.18420622,\n",
       "         0.00534405,  0.04026011,  0.14667284, -0.07462122,  0.08753778,\n",
       "         0.07543378, -0.19349955,  0.06043816,  0.04424411,  0.08687286,\n",
       "        -0.03168561, -0.04679289,  0.1629591 ,  0.0076432 , -0.04984963,\n",
       "         0.01667048,  0.09850624,  0.1387116 , -0.08107418, -0.13177754,\n",
       "         0.1487577 , -0.0417103 , -0.12235425, -0.03421148, -0.00201817,\n",
       "        -0.15037303, -0.009288  ,  0.07740565, -0.0366892 ,  0.00060408,\n",
       "         0.06341121, -0.03144919,  0.14851497, -0.02022134,  0.03000833,\n",
       "         0.02236325,  0.10878393, -0.03018036, -0.2100668 , -0.02788349,\n",
       "        -0.05351043, -0.03042476, -0.06327382,  0.20285822,  0.05022955,\n",
       "        -0.04699051,  0.03414527,  0.02980045,  0.07398422, -0.02231656,\n",
       "        -0.07236812,  0.15428476,  0.12506934], dtype=float32)>,\n",
       " <tf.Variable 'dense_1/kernel:0' shape=(128, 64) dtype=float32, numpy=\n",
       " array([[-0.00450266,  0.14360958,  0.14308697, ...,  0.12243049,\n",
       "         -0.15284975,  0.1494391 ],\n",
       "        [-0.02916212, -0.41458714,  0.39593086, ...,  0.13684143,\n",
       "          0.00559164,  0.17320709],\n",
       "        [ 0.14379135,  0.07479775, -0.28706798, ..., -0.17221563,\n",
       "         -0.16754982, -0.00869914],\n",
       "        ...,\n",
       "        [-0.11908001, -0.0471521 ,  0.20344897, ..., -0.2796547 ,\n",
       "         -0.03444855,  0.15178049],\n",
       "        [ 0.20561323, -0.3101498 ,  0.00271625, ...,  0.00116393,\n",
       "         -0.16977133, -0.09576163],\n",
       "        [-0.13358848,  0.04825549, -0.2558454 , ...,  0.00601494,\n",
       "         -0.06415976,  0.10794482]], dtype=float32)>,\n",
       " <tf.Variable 'dense_1/bias:0' shape=(64,) dtype=float32, numpy=\n",
       " array([-0.05178681,  0.06120636, -0.2626027 ,  0.1524525 , -0.04981318,\n",
       "        -0.00841014,  0.0595515 ,  0.07957146, -0.01465778,  0.06611016,\n",
       "         0.13704284,  0.07198554, -0.05292764, -0.02892615,  0.0633903 ,\n",
       "         0.03087999,  0.02279632, -0.16993594, -0.10480817,  0.00168411,\n",
       "        -0.15799662,  0.06339069,  0.05208902,  0.0778944 ,  0.05166081,\n",
       "        -0.04294279,  0.08939761, -0.07915175, -0.09502578, -0.0047964 ,\n",
       "         0.12692742,  0.19535403,  0.1598007 , -0.00427488,  0.02944566,\n",
       "         0.24497902,  0.01732184, -0.01851541, -0.03471418, -0.04666043,\n",
       "         0.12952846,  0.0743807 , -0.01777102, -0.10237415,  0.06360389,\n",
       "         0.26019982,  0.02283226,  0.1395242 ,  0.02147542, -0.08854693,\n",
       "        -0.07212453, -0.02164387, -0.07493304,  0.06393273,  0.04421189,\n",
       "         0.04612816,  0.04698988, -0.03141168,  0.03364738,  0.06204145,\n",
       "         0.29686108, -0.00372979, -0.09438404, -0.01305857], dtype=float32)>,\n",
       " <tf.Variable 'dense_2/kernel:0' shape=(64, 32) dtype=float32, numpy=\n",
       " array([[-0.29611218,  0.1267018 ,  0.24908175, ..., -0.16557872,\n",
       "          0.06183905,  0.09693536],\n",
       "        [ 0.18119268, -0.1618182 ,  0.09773149, ...,  0.04971734,\n",
       "         -0.16536336,  0.2373579 ],\n",
       "        [ 0.24002247, -0.08269541,  0.26384863, ..., -0.0486466 ,\n",
       "         -0.15077195,  0.1401018 ],\n",
       "        ...,\n",
       "        [-0.09188649, -0.44685888, -0.01602259, ...,  0.18252252,\n",
       "         -0.32176894, -0.14961441],\n",
       "        [-0.23419613,  0.0700354 , -0.19244179, ..., -0.05479332,\n",
       "         -0.13743298,  0.20848763],\n",
       "        [-0.01771776,  0.16661684,  0.35649827, ..., -0.02947752,\n",
       "          0.07168798, -0.3382918 ]], dtype=float32)>,\n",
       " <tf.Variable 'dense_2/bias:0' shape=(32,) dtype=float32, numpy=\n",
       " array([-0.07802564,  0.15192188, -0.06711981,  0.13033274,  0.04986069,\n",
       "         0.01922195,  0.21586573,  0.05977889, -0.06676536, -0.14922677,\n",
       "         0.14148201,  0.05027625,  0.15310845,  0.12381786, -0.10006885,\n",
       "        -0.0714994 ,  0.01808174,  0.08241094, -0.0475582 ,  0.23199351,\n",
       "         0.22243467, -0.01391673,  0.11812228, -0.07417832,  0.02452963,\n",
       "        -0.00317233,  0.1885595 ,  0.02954076,  0.07817502,  0.02784814,\n",
       "         0.08089726,  0.03571358], dtype=float32)>,\n",
       " <tf.Variable 'dense_3/kernel:0' shape=(32, 10) dtype=float32, numpy=\n",
       " array([[ 1.95953190e-01,  2.55890518e-01, -4.31676358e-01,\n",
       "          2.61102706e-01,  3.23369533e-01, -4.86884177e-01,\n",
       "         -1.61279127e-01,  3.72740477e-01, -1.94140911e-01,\n",
       "         -3.39067072e-01],\n",
       "        [-4.19060111e-01, -3.87069911e-01, -2.20766082e-01,\n",
       "          9.77655128e-02,  3.19463432e-01,  3.38131189e-02,\n",
       "         -6.77760541e-01,  1.40898302e-01,  8.91762152e-02,\n",
       "          1.74002588e-01],\n",
       "        [-2.07606301e-01, -2.21831322e-01,  3.87056053e-01,\n",
       "         -1.60675794e-01, -2.78974473e-02, -3.28447729e-01,\n",
       "         -3.63673151e-01,  1.73509225e-01, -3.15150857e-01,\n",
       "         -4.96911526e-01],\n",
       "        [-7.46571049e-02, -5.33463597e-01,  1.79631457e-01,\n",
       "          4.34990972e-01, -4.84077543e-01,  1.54889494e-01,\n",
       "         -2.96527743e-01,  2.99373686e-01,  3.50936949e-01,\n",
       "          2.81486124e-01],\n",
       "        [ 5.02450585e-01,  2.74902750e-02, -6.83933273e-02,\n",
       "         -2.41846383e-01, -3.30469757e-01,  2.12471500e-01,\n",
       "          5.22200704e-01,  2.34086160e-02,  7.80175477e-02,\n",
       "          7.43522123e-02],\n",
       "        [ 2.91705936e-01,  7.65742809e-02, -1.95020497e-01,\n",
       "          1.12184435e-01, -5.00815332e-01,  1.22611865e-01,\n",
       "         -1.60747424e-01, -3.46455455e-01, -1.07867159e-01,\n",
       "         -3.17835718e-01],\n",
       "        [-4.13787067e-01,  6.57949522e-02, -3.85783285e-01,\n",
       "         -1.43086445e-02, -5.14757528e-04,  2.19647348e-01,\n",
       "         -2.29596421e-01, -2.00040743e-01,  1.74843997e-01,\n",
       "         -1.53241679e-01],\n",
       "        [-2.16022149e-01, -6.44637272e-02, -1.95119977e-01,\n",
       "         -1.06825076e-01, -2.46509254e-01,  9.66614410e-02,\n",
       "          2.67837256e-01, -3.86831135e-01,  7.34659284e-02,\n",
       "         -5.51164269e-01],\n",
       "        [-2.49935195e-01,  2.31896445e-01,  9.01731476e-03,\n",
       "         -2.43814029e-02,  8.36318582e-02,  1.70027494e-01,\n",
       "         -2.14449689e-01, -1.96799785e-01,  2.13124584e-02,\n",
       "          3.33815180e-02],\n",
       "        [-2.87376195e-01, -4.72654589e-02,  2.07330182e-01,\n",
       "          4.60201323e-01,  1.29420206e-01, -2.25359857e-01,\n",
       "         -3.97344798e-01,  3.40311110e-01, -4.18652982e-01,\n",
       "          8.06943700e-03],\n",
       "        [ 3.58454771e-02,  1.26776159e-01,  2.40888715e-01,\n",
       "         -7.22650737e-02,  2.34245032e-01, -3.90216172e-01,\n",
       "         -3.45707506e-01,  3.72842818e-01,  3.93177390e-01,\n",
       "          2.89339036e-01],\n",
       "        [-3.29844713e-01, -1.80029556e-01, -5.87605000e-01,\n",
       "         -3.60887825e-01,  1.82807252e-01, -4.90416773e-02,\n",
       "          1.28204495e-01,  7.26977512e-02, -8.06194246e-02,\n",
       "         -4.58834857e-01],\n",
       "        [ 3.84731978e-01, -1.68134227e-01,  2.42426142e-01,\n",
       "          2.64855415e-01,  2.77133733e-01, -3.96284968e-01,\n",
       "          2.78775152e-02, -6.33637667e-01,  3.30047786e-01,\n",
       "         -3.70715633e-02],\n",
       "        [-4.07318473e-02, -2.65951067e-01, -1.11796312e-01,\n",
       "         -1.83824986e-01,  2.37260833e-01, -3.67756128e-01,\n",
       "          4.72152531e-01, -5.05450606e-01,  6.77105486e-02,\n",
       "          1.69708654e-01],\n",
       "        [-5.42569935e-01,  3.64088029e-01, -4.16727737e-02,\n",
       "         -3.15119028e-01, -1.75168008e-01, -8.66046995e-02,\n",
       "         -3.97717990e-02,  1.91496149e-01, -2.37712294e-01,\n",
       "         -6.39463902e-01],\n",
       "        [-5.08944333e-01, -6.92315847e-02, -2.34927326e-01,\n",
       "          2.70114392e-01, -2.92524636e-01,  3.17732960e-01,\n",
       "         -1.56779692e-01, -5.20688295e-01, -5.09315193e-01,\n",
       "         -9.13301334e-02],\n",
       "        [ 3.25834975e-02, -4.95371580e-01,  3.83933008e-01,\n",
       "         -3.37270558e-01, -6.20081387e-02,  1.30764827e-01,\n",
       "          6.38528690e-02,  2.65866339e-01, -4.32474375e-01,\n",
       "         -1.49610579e-01],\n",
       "        [-3.21995705e-01, -4.41093221e-02,  3.77772838e-01,\n",
       "         -1.64797977e-01,  1.42783582e-01, -3.18055540e-01,\n",
       "          3.99883598e-01,  1.68984085e-01,  1.83473408e-01,\n",
       "         -2.11520061e-01],\n",
       "        [-2.89773885e-02,  4.10719007e-01,  3.54432821e-01,\n",
       "         -1.82886735e-01, -2.30642572e-01, -1.49834394e-01,\n",
       "         -2.61838526e-01, -1.01135649e-01, -4.78132308e-01,\n",
       "         -7.16502145e-02],\n",
       "        [-1.78341478e-01,  1.29271790e-01,  4.90466729e-02,\n",
       "          2.54215062e-01, -2.45165303e-01,  6.47827759e-02,\n",
       "         -3.03349376e-01, -3.65154773e-01,  4.45981085e-01,\n",
       "         -3.83907050e-01],\n",
       "        [-3.23924273e-01, -3.08948308e-01, -2.62502223e-01,\n",
       "         -2.08676085e-01,  1.35621607e-01,  4.45603311e-01,\n",
       "          2.69970477e-01, -3.91625285e-01,  5.21930493e-02,\n",
       "          2.67745666e-02],\n",
       "        [ 3.91046017e-01, -1.10520855e-01, -9.91035160e-03,\n",
       "         -1.50893005e-02,  2.94243157e-01,  2.73680985e-01,\n",
       "          3.16613279e-02, -5.22592291e-02, -1.19910240e-01,\n",
       "         -3.58688504e-01],\n",
       "        [-3.11564922e-01,  3.06709200e-01, -3.33505481e-01,\n",
       "         -1.87295154e-01,  2.40599848e-02, -2.43112758e-01,\n",
       "         -4.61456060e-01, -2.05557123e-02,  1.19791254e-01,\n",
       "          2.01864973e-01],\n",
       "        [-7.10587278e-02,  1.68041825e-01,  2.12685894e-02,\n",
       "          1.22178942e-01, -2.17077851e-01,  2.58695841e-01,\n",
       "         -6.71873629e-01,  5.36409467e-02, -2.42494494e-01,\n",
       "          4.76104140e-01],\n",
       "        [-1.85518250e-01,  1.58351108e-01,  8.60745162e-02,\n",
       "         -1.50322751e-03, -4.84905213e-01, -3.69129658e-01,\n",
       "          1.43117502e-01, -2.38936972e-02,  5.83084077e-02,\n",
       "         -9.03270170e-02],\n",
       "        [-8.47265065e-01, -1.11584529e-01, -3.08425069e-01,\n",
       "         -3.21755826e-01, -7.82207668e-01,  1.90045416e-01,\n",
       "         -3.63385051e-01, -1.37380660e+00, -1.57159880e-01,\n",
       "         -1.55463934e-01],\n",
       "        [-4.67904627e-01,  1.46551237e-01,  1.18179329e-01,\n",
       "         -7.27025419e-03, -5.62593043e-01,  2.76303470e-01,\n",
       "          1.55997053e-01, -3.42254192e-02,  2.11051881e-01,\n",
       "         -6.82718873e-01],\n",
       "        [ 2.53983557e-01, -4.00683731e-01,  4.27516192e-01,\n",
       "          7.84818362e-03,  2.54891634e-01, -1.83777581e-03,\n",
       "         -4.31442112e-01,  6.82517812e-02, -5.89281581e-02,\n",
       "         -6.87835068e-02],\n",
       "        [ 4.62341428e-01,  8.17109123e-02, -8.87322947e-02,\n",
       "         -5.78600526e-01,  1.32490039e-01, -2.55710166e-02,\n",
       "         -3.45134377e-01,  3.55147392e-01,  1.23888738e-01,\n",
       "          2.07609430e-01],\n",
       "        [-3.30094337e-01,  4.58433062e-01,  3.74633789e-01,\n",
       "         -5.38826644e-01,  2.06913337e-01, -3.09200212e-03,\n",
       "          1.85100257e-01, -3.03506553e-01, -1.31328376e-02,\n",
       "          4.04509097e-01],\n",
       "        [-4.94885743e-01, -3.34392130e-01, -4.27727431e-01,\n",
       "          2.18493894e-01,  2.08821535e-01,  4.08274792e-02,\n",
       "         -2.83524185e-01,  9.82534662e-02, -9.39492229e-03,\n",
       "          3.07286471e-01],\n",
       "        [-1.66784510e-01,  4.05173957e-01,  2.98171472e-02,\n",
       "         -2.28323340e-01,  2.79023528e-01,  2.03768343e-01,\n",
       "         -1.19024843e-01, -2.02677816e-01, -5.07005155e-01,\n",
       "         -4.86697018e-01]], dtype=float32)>,\n",
       " <tf.Variable 'dense_3/bias:0' shape=(10,) dtype=float32, numpy=\n",
       " array([-0.06526244, -0.11183241, -0.10091005, -0.06752798,  0.10123254,\n",
       "        -0.00477853,  0.04823834, -0.12912033,  0.2043829 ,  0.02072104],\n",
       "       dtype=float32)>]"
      ]
     },
     "execution_count": 11,
     "metadata": {},
     "output_type": "execute_result"
    }
   ],
   "source": [
    "model.weights"
   ]
  },
  {
   "cell_type": "code",
   "execution_count": 13,
   "metadata": {},
   "outputs": [],
   "source": [
    "model.save('mnist.h5')"
   ]
  }
 ],
 "metadata": {
  "kernelspec": {
   "display_name": "Python 3",
   "language": "python",
   "name": "python3"
  },
  "language_info": {
   "codemirror_mode": {
    "name": "ipython",
    "version": 3
   },
   "file_extension": ".py",
   "mimetype": "text/x-python",
   "name": "python",
   "nbconvert_exporter": "python",
   "pygments_lexer": "ipython3",
   "version": "3.10.6"
  },
  "orig_nbformat": 4,
  "vscode": {
   "interpreter": {
    "hash": "916dbcbb3f70747c44a77c7bcd40155683ae19c65e1c03b4aa3499c5328201f1"
   }
  }
 },
 "nbformat": 4,
 "nbformat_minor": 2
}
