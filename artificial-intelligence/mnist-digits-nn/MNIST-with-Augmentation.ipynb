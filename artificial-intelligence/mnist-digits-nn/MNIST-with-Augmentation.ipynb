{
 "cells": [
  {
   "cell_type": "code",
   "execution_count": 3,
   "metadata": {},
   "outputs": [],
   "source": [
    "import os\n",
    "os.environ['TF_CPP_MIN_LOG_LEVEL'] = '3'  # hide warn log information \n",
    "\n",
    "import tensorflow as tf                   # model\n",
    "import numpy as np                        # argmax\n",
    "import matplotlib.pyplot as plt           # plot images\n"
   ]
  },
  {
   "cell_type": "code",
   "execution_count": 4,
   "metadata": {},
   "outputs": [
    {
     "data": {
      "text/plain": [
       "((60000, 28, 28), (10000, 28, 28))"
      ]
     },
     "execution_count": 4,
     "metadata": {},
     "output_type": "execute_result"
    }
   ],
   "source": [
    "# load mnist dataset\n",
    "(training_images, training_labels), (test_images, test_labels) = tf.keras.datasets.mnist.load_data()\n",
    "\n",
    "# scale or normalize the datasets\n",
    "training_images=training_images/255.0\n",
    "test_images=test_images/255.0\n",
    "\n",
    "# print the shape of the dataset\n",
    "training_images.shape, test_images.shape"
   ]
  },
  {
   "attachments": {},
   "cell_type": "markdown",
   "metadata": {},
   "source": [
    "## Data Augmentation"
   ]
  },
  {
   "cell_type": "code",
   "execution_count": 5,
   "metadata": {},
   "outputs": [],
   "source": [
    "datagen = tf.keras.preprocessing.image.ImageDataGenerator(\n",
    "    rotation_range=15,\n",
    "    zoom_range=.1,\n",
    "    width_shift_range=.1,\n",
    "    height_shift_range=.1,\n",
    "    shear_range=.1,\n",
    ")\n",
    "\n",
    "datagen.fit(training_images.reshape(-1, 28,28,1))\n",
    "augmented_iterator = datagen.flow(training_images.reshape(-1,28,28,1), training_labels, batch_size=32)"
   ]
  },
  {
   "cell_type": "code",
   "execution_count": 6,
   "metadata": {},
   "outputs": [],
   "source": [
    "model = tf.keras.models.Sequential([\n",
    "  tf.keras.layers.Flatten(input_shape=(28,28), name='input'),            # 28 * 28 => (784,1)\n",
    "  tf.keras.layers.Dense(128, activation=tf.nn.relu, name='hidden_1'),\n",
    "  tf.keras.layers.Dense(64, activation=tf.nn.relu, name='hidden_2'),\n",
    "  tf.keras.layers.Dense(32, activation=tf.nn.relu, name='hidden_3'),\n",
    "  tf.keras.layers.Dense(10, activation=tf.nn.softmax, name='output')\n",
    "])"
   ]
  },
  {
   "cell_type": "code",
   "execution_count": 7,
   "metadata": {},
   "outputs": [],
   "source": [
    "model.compile(optimizer='adam',\n",
    "              loss='sparse_categorical_crossentropy',\n",
    "              metrics=['accuracy'])"
   ]
  },
  {
   "cell_type": "code",
   "execution_count": 8,
   "metadata": {},
   "outputs": [
    {
     "name": "stdout",
     "output_type": "stream",
     "text": [
      "Epoch 1/10\n",
      "WARNING:tensorflow:Model was constructed with shape (None, 28, 28) for input KerasTensor(type_spec=TensorSpec(shape=(None, 28, 28), dtype=tf.float32, name='input_input'), name='input_input', description=\"created by layer 'input_input'\"), but it was called on an input with incompatible shape (None, None, None, None).\n",
      "WARNING:tensorflow:Model was constructed with shape (None, 28, 28) for input KerasTensor(type_spec=TensorSpec(shape=(None, 28, 28), dtype=tf.float32, name='input_input'), name='input_input', description=\"created by layer 'input_input'\"), but it was called on an input with incompatible shape (None, None, None, None).\n",
      "1875/1875 [==============================] - 33s 17ms/step - loss: 0.5127 - accuracy: 0.8385 - val_loss: 0.1505 - val_accuracy: 0.9523\n",
      "Epoch 2/10\n",
      "1875/1875 [==============================] - 33s 17ms/step - loss: 0.2470 - accuracy: 0.9249 - val_loss: 0.1264 - val_accuracy: 0.9601\n",
      "Epoch 3/10\n",
      "1875/1875 [==============================] - 30s 16ms/step - loss: 0.2060 - accuracy: 0.9381 - val_loss: 0.1056 - val_accuracy: 0.9678\n",
      "Epoch 4/10\n",
      "1875/1875 [==============================] - 32s 17ms/step - loss: 0.1818 - accuracy: 0.9441 - val_loss: 0.0901 - val_accuracy: 0.9697\n",
      "Epoch 5/10\n",
      "1875/1875 [==============================] - 32s 17ms/step - loss: 0.1650 - accuracy: 0.9498 - val_loss: 0.1122 - val_accuracy: 0.9617\n",
      "Epoch 6/10\n",
      "1875/1875 [==============================] - 31s 16ms/step - loss: 0.1508 - accuracy: 0.9543 - val_loss: 0.0839 - val_accuracy: 0.9741\n",
      "Epoch 7/10\n",
      "1875/1875 [==============================] - 31s 17ms/step - loss: 0.1417 - accuracy: 0.9566 - val_loss: 0.0732 - val_accuracy: 0.9773\n",
      "Epoch 8/10\n",
      "1875/1875 [==============================] - 31s 16ms/step - loss: 0.1331 - accuracy: 0.9582 - val_loss: 0.0668 - val_accuracy: 0.9781\n",
      "Epoch 9/10\n",
      "1875/1875 [==============================] - 32s 17ms/step - loss: 0.1309 - accuracy: 0.9592 - val_loss: 0.0760 - val_accuracy: 0.9749\n",
      "Epoch 10/10\n",
      "1875/1875 [==============================] - 34s 18ms/step - loss: 0.1210 - accuracy: 0.9623 - val_loss: 0.0614 - val_accuracy: 0.9799\n"
     ]
    },
    {
     "data": {
      "text/plain": [
       "<keras.callbacks.History at 0x7f5da6b6e2f0>"
      ]
     },
     "execution_count": 8,
     "metadata": {},
     "output_type": "execute_result"
    }
   ],
   "source": [
    "model.fit(augmented_iterator, epochs=10, validation_data=(test_images.reshape(-1,28,28,1), test_labels))"
   ]
  }
 ],
 "metadata": {
  "kernelspec": {
   "display_name": "Python 3",
   "language": "python",
   "name": "python3"
  },
  "language_info": {
   "codemirror_mode": {
    "name": "ipython",
    "version": 3
   },
   "file_extension": ".py",
   "mimetype": "text/x-python",
   "name": "python",
   "nbconvert_exporter": "python",
   "pygments_lexer": "ipython3",
   "version": "3.10.6"
  },
  "orig_nbformat": 4
 },
 "nbformat": 4,
 "nbformat_minor": 2
}
