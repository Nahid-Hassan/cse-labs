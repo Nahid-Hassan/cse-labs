{
 "cells": [
  {
   "cell_type": "code",
   "execution_count": 13,
   "id": "d7012cc6",
   "metadata": {},
   "outputs": [],
   "source": [
    "import tensorflow as tf\n",
    "from tensorflow.keras.datasets import mnist\n",
    "from tensorflow.keras.models import Sequential\n",
    "from tensorflow.keras.layers import Dense, Dropout, Flatten\n",
    "from tensorflow.keras.layers import Conv2D, MaxPooling2D\n",
    "from tensorflow.keras.callbacks import EarlyStopping\n",
    "from tensorflow.keras.preprocessing.image import ImageDataGenerator\n",
    "import numpy as np\n",
    "import matplotlib.pyplot as plt"
   ]
  },
  {
   "cell_type": "code",
   "execution_count": 14,
   "id": "0c83fe9b",
   "metadata": {},
   "outputs": [],
   "source": [
    "# Load the dataset\n",
    "(x_train, y_train), (x_test, y_test) = mnist.load_data()\n",
    "\n",
    "# Reshape the data into 4D tensors\n",
    "x_train = x_train.reshape(x_train.shape[0], 28, 28, 1)\n",
    "x_test = x_test.reshape(x_test.shape[0], 28, 28, 1)\n",
    "\n",
    "# Convert the data to float32 and normalize it to values between 0 and 1\n",
    "x_train = x_train.astype('float32') / 255\n",
    "x_test = x_test.astype('float32') / 255"
   ]
  },
  {
   "cell_type": "code",
   "execution_count": 15,
   "id": "cf759259",
   "metadata": {},
   "outputs": [],
   "source": [
    "# Convert the labels to categorical one-hot encoding\n",
    "y_train = tf.keras.utils.to_categorical(y_train, 10)\n",
    "y_test = tf.keras.utils.to_categorical(y_test, 10)"
   ]
  },
  {
   "cell_type": "code",
   "execution_count": 16,
   "id": "58815915",
   "metadata": {},
   "outputs": [],
   "source": [
    "# Define the model\n",
    "model = Sequential()\n",
    "model.add(Conv2D(32, kernel_size=(3, 3), activation='relu', input_shape=(28, 28, 1)))\n",
    "model.add(MaxPooling2D(pool_size=(2, 2)))\n",
    "model.add(Dropout(0.25))\n",
    "model.add(Flatten())\n",
    "model.add(Dense(128, activation='relu'))\n",
    "model.add(Dropout(0.5))\n",
    "model.add(Dense(10, activation='softmax'))"
   ]
  },
  {
   "cell_type": "code",
   "execution_count": 17,
   "id": "0d260ab1",
   "metadata": {},
   "outputs": [],
   "source": [
    "# Compile the model\n",
    "model.compile(loss='categorical_crossentropy', optimizer='adam', metrics=['accuracy'])"
   ]
  },
  {
   "cell_type": "code",
   "execution_count": null,
   "id": "6580f838",
   "metadata": {},
   "outputs": [],
   "source": [
    "# Define the data augmentation generator\n",
    "datagen = ImageDataGenerator(\n",
    "        rotation_range=10,  # Rotate the image by a random degree between -10 and 10\n",
    "        width_shift_range=0.1,  # Shift the image horizontally by a random fraction between -0.1 and 0.1 of the width\n",
    "        height_shift_range=0.1,  # Shift the image vertically by a random fraction between -0.1 and 0.1 of the height\n",
    "        zoom_range=0.1  # Zoom the image by a random factor between 0.9 and 1.1\n",
    ")\n",
    "\n",
    "# Fit the model with data augmentation\n",
    "history_aug = model.fit(datagen.flow(x_train, y_train, batch_size=128),\n",
    "                        steps_per_epoch=len(x_train) / 128, epochs=30,\n",
    "                        validation_data=(x_test, y_test), callbacks=[EarlyStopping(patience=5)])\n",
    "\n",
    "# Fit the model without data augmentation\n",
    "history_no_aug = model.fit(x_train, y_train, batch_size=128, epochs=30,\n",
    "                           validation_data=(x_test, y_test), callbacks=[EarlyStopping(patience=5)])\n",
    "\n",
    "# Plot the training and validation accuracy for the augmented data\n",
    "plt.plot(history_aug.history['accuracy'])\n",
    "plt.plot(history_aug.history['val_accuracy'])\n",
    "plt.title('Model accuracy with data augmentation')\n",
    "plt.ylabel('Accuracy')\n",
    "plt.xlabel('Epoch')\n",
    "plt.legend(['Train', 'Test'], loc='upper left')\n",
    "plt.show()\n",
    "\n",
    "# Plot the training and validation accuracy for the non-augmented data\n",
    "plt.plot(history_no_aug.history['accuracy'])\n",
    "plt.plot(history_no_aug.history['val_accuracy'])\n",
    "plt.title('Model accuracy without data augmentation')\n",
    "plt.ylabel('Accuracy')\n",
    "plt.xlabel('Epoch')\n",
    "plt.legend(['Train', 'Test'], loc='upper left')\n",
    "plt.show()\n"
   ]
  }
 ],
 "metadata": {
  "kernelspec": {
   "display_name": "Python 3 (ipykernel)",
   "language": "python",
   "name": "python3"
  },
  "language_info": {
   "codemirror_mode": {
    "name": "ipython",
    "version": 3
   },
   "file_extension": ".py",
   "mimetype": "text/x-python",
   "name": "python",
   "nbconvert_exporter": "python",
   "pygments_lexer": "ipython3",
   "version": "3.10.6"
  }
 },
 "nbformat": 4,
 "nbformat_minor": 5
}
