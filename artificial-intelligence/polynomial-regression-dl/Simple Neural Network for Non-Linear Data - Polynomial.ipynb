{
  "nbformat": 4,
  "nbformat_minor": 0,
  "metadata": {
    "colab": {
      "provenance": []
    },
    "kernelspec": {
      "name": "python3",
      "display_name": "Python 3"
    },
    "language_info": {
      "name": "python"
    },
    "accelerator": "GPU",
    "gpuClass": "standard"
  },
  "cells": [
    {
      "cell_type": "code",
      "execution_count": 32,
      "metadata": {
        "id": "orsi9Ytfqv44"
      },
      "outputs": [],
      "source": [
        "from keras.layers import Dense\n",
        "import tensorflow as tf\n",
        "import numpy as np"
      ]
    },
    {
      "cell_type": "code",
      "source": [
        "x = np.arange(-10,10, .01)\n",
        "y = 3*x**3 + 7*x**2 - 12*x + 2"
      ],
      "metadata": {
        "id": "yhOJq4-HrrK1"
      },
      "execution_count": 33,
      "outputs": []
    },
    {
      "cell_type": "code",
      "source": [
        "model = tf.keras.Sequential([\n",
        "        Dense(units=32, input_shape=(1,), activation='relu'),\n",
        "        Dense(units=128, activation='relu'),\n",
        "        Dense(units=256, activation='relu'),\n",
        "        Dense(units=256, activation='relu'),\n",
        "        Dense(units=512, activation='relu'),\n",
        "        # Dense(units=1, activation='tanh')\n",
        "        Dense(units=1)\n",
        "    ]\n",
        ")"
      ],
      "metadata": {
        "colab": {
          "base_uri": "https://localhost:8080/"
        },
        "id": "9gxNuWRtrPCu",
        "outputId": "c3d6cd82-021a-4c62-b7c7-a0382410faef"
      },
      "execution_count": 34,
      "outputs": [
        {
          "output_type": "stream",
          "name": "stdout",
          "text": [
            "Epoch 1/100\n",
            "63/63 [==============================] - 1s 3ms/step - loss: 706152.6875\n",
            "Epoch 2/100\n",
            "63/63 [==============================] - 0s 3ms/step - loss: 219659.6250\n",
            "Epoch 3/100\n",
            "63/63 [==============================] - 0s 3ms/step - loss: 202806.7031\n",
            "Epoch 4/100\n",
            "63/63 [==============================] - 0s 3ms/step - loss: 166874.3125\n",
            "Epoch 5/100\n",
            "63/63 [==============================] - 0s 3ms/step - loss: 115759.4531\n",
            "Epoch 6/100\n",
            "63/63 [==============================] - 0s 3ms/step - loss: 49050.3633\n",
            "Epoch 7/100\n",
            "63/63 [==============================] - 0s 3ms/step - loss: 17053.2891\n",
            "Epoch 8/100\n",
            "63/63 [==============================] - 0s 3ms/step - loss: 7346.2373\n",
            "Epoch 9/100\n",
            "63/63 [==============================] - 0s 3ms/step - loss: 4129.0107\n",
            "Epoch 10/100\n",
            "63/63 [==============================] - 0s 3ms/step - loss: 2666.4399\n",
            "Epoch 11/100\n",
            "63/63 [==============================] - 0s 3ms/step - loss: 2643.7029\n",
            "Epoch 12/100\n",
            "63/63 [==============================] - 0s 3ms/step - loss: 2427.4573\n",
            "Epoch 13/100\n",
            "63/63 [==============================] - 0s 3ms/step - loss: 799.9564\n",
            "Epoch 14/100\n",
            "63/63 [==============================] - 0s 3ms/step - loss: 923.5593\n",
            "Epoch 15/100\n",
            "63/63 [==============================] - 0s 3ms/step - loss: 2107.8059\n",
            "Epoch 16/100\n",
            "63/63 [==============================] - 0s 3ms/step - loss: 2337.1970\n",
            "Epoch 17/100\n",
            "63/63 [==============================] - 0s 3ms/step - loss: 1237.7347\n",
            "Epoch 18/100\n",
            "63/63 [==============================] - 0s 3ms/step - loss: 759.4238\n",
            "Epoch 19/100\n",
            "63/63 [==============================] - 0s 3ms/step - loss: 312.0867\n",
            "Epoch 20/100\n",
            "63/63 [==============================] - 0s 4ms/step - loss: 297.2045\n",
            "Epoch 21/100\n",
            "63/63 [==============================] - 0s 5ms/step - loss: 412.0303\n",
            "Epoch 22/100\n",
            "63/63 [==============================] - 0s 4ms/step - loss: 366.7573\n",
            "Epoch 23/100\n",
            "63/63 [==============================] - 0s 4ms/step - loss: 141.6393\n",
            "Epoch 24/100\n",
            "63/63 [==============================] - 0s 4ms/step - loss: 338.6366\n",
            "Epoch 25/100\n",
            "63/63 [==============================] - 0s 5ms/step - loss: 240.0320\n",
            "Epoch 26/100\n",
            "63/63 [==============================] - 0s 4ms/step - loss: 264.8158\n",
            "Epoch 27/100\n",
            "63/63 [==============================] - 0s 4ms/step - loss: 164.2767\n",
            "Epoch 28/100\n",
            "63/63 [==============================] - 0s 4ms/step - loss: 1014.9745\n",
            "Epoch 29/100\n",
            "63/63 [==============================] - 0s 3ms/step - loss: 3511.1543\n",
            "Epoch 30/100\n",
            "63/63 [==============================] - 0s 3ms/step - loss: 1455.5167\n",
            "Epoch 31/100\n",
            "63/63 [==============================] - 0s 3ms/step - loss: 1136.3550\n",
            "Epoch 32/100\n",
            "63/63 [==============================] - 0s 3ms/step - loss: 630.7535\n",
            "Epoch 33/100\n",
            "63/63 [==============================] - 0s 3ms/step - loss: 613.5123\n",
            "Epoch 34/100\n",
            "63/63 [==============================] - 0s 3ms/step - loss: 569.8720\n",
            "Epoch 35/100\n",
            "63/63 [==============================] - 0s 3ms/step - loss: 528.7484\n",
            "Epoch 36/100\n",
            "63/63 [==============================] - 0s 3ms/step - loss: 1557.9072\n",
            "Epoch 37/100\n",
            "63/63 [==============================] - 0s 3ms/step - loss: 930.7255\n",
            "Epoch 38/100\n",
            "63/63 [==============================] - 0s 3ms/step - loss: 927.6191\n",
            "Epoch 39/100\n",
            "63/63 [==============================] - 0s 3ms/step - loss: 755.8438\n",
            "Epoch 40/100\n",
            "63/63 [==============================] - 0s 3ms/step - loss: 158.7555\n",
            "Epoch 41/100\n",
            "63/63 [==============================] - 0s 3ms/step - loss: 393.2499\n",
            "Epoch 42/100\n",
            "63/63 [==============================] - 0s 3ms/step - loss: 183.2685\n",
            "Epoch 43/100\n",
            "63/63 [==============================] - 0s 3ms/step - loss: 165.4776\n",
            "Epoch 44/100\n",
            "63/63 [==============================] - 0s 3ms/step - loss: 161.3375\n",
            "Epoch 45/100\n",
            "63/63 [==============================] - 0s 3ms/step - loss: 124.9386\n",
            "Epoch 46/100\n",
            "63/63 [==============================] - 0s 3ms/step - loss: 121.7044\n",
            "Epoch 47/100\n",
            "63/63 [==============================] - 0s 3ms/step - loss: 138.6406\n",
            "Epoch 48/100\n",
            "63/63 [==============================] - 0s 3ms/step - loss: 1635.8682\n",
            "Epoch 49/100\n",
            "63/63 [==============================] - 0s 3ms/step - loss: 488.4368\n",
            "Epoch 50/100\n",
            "63/63 [==============================] - 0s 3ms/step - loss: 214.3486\n",
            "Epoch 51/100\n",
            "63/63 [==============================] - 0s 3ms/step - loss: 71.8870\n",
            "Epoch 52/100\n",
            "63/63 [==============================] - 0s 3ms/step - loss: 63.0600\n",
            "Epoch 53/100\n",
            "63/63 [==============================] - 0s 3ms/step - loss: 148.4336\n",
            "Epoch 54/100\n",
            "63/63 [==============================] - 0s 3ms/step - loss: 1517.3409\n",
            "Epoch 55/100\n",
            "63/63 [==============================] - 0s 3ms/step - loss: 1103.8014\n",
            "Epoch 56/100\n",
            "63/63 [==============================] - 0s 3ms/step - loss: 207.5911\n",
            "Epoch 57/100\n",
            "63/63 [==============================] - 0s 3ms/step - loss: 1056.0763\n",
            "Epoch 58/100\n",
            "63/63 [==============================] - 0s 3ms/step - loss: 1118.6307\n",
            "Epoch 59/100\n",
            "63/63 [==============================] - 0s 3ms/step - loss: 87.4740\n",
            "Epoch 60/100\n",
            "63/63 [==============================] - 0s 3ms/step - loss: 93.7486\n",
            "Epoch 61/100\n",
            "63/63 [==============================] - 0s 4ms/step - loss: 185.4517\n",
            "Epoch 62/100\n",
            "63/63 [==============================] - 0s 3ms/step - loss: 43.7319\n",
            "Epoch 63/100\n",
            "63/63 [==============================] - 0s 3ms/step - loss: 95.0419\n",
            "Epoch 64/100\n",
            "63/63 [==============================] - 0s 3ms/step - loss: 121.6269\n",
            "Epoch 65/100\n",
            "63/63 [==============================] - 0s 5ms/step - loss: 1684.5332\n",
            "Epoch 66/100\n",
            "63/63 [==============================] - 0s 3ms/step - loss: 1091.3263\n",
            "Epoch 67/100\n",
            "63/63 [==============================] - 0s 3ms/step - loss: 2901.5437\n",
            "Epoch 68/100\n",
            "63/63 [==============================] - 0s 4ms/step - loss: 1163.6407\n",
            "Epoch 69/100\n",
            "63/63 [==============================] - 0s 3ms/step - loss: 649.2996\n",
            "Epoch 70/100\n",
            "63/63 [==============================] - 0s 3ms/step - loss: 121.5261\n",
            "Epoch 71/100\n",
            "63/63 [==============================] - 0s 3ms/step - loss: 97.3092\n",
            "Epoch 72/100\n",
            "63/63 [==============================] - 0s 3ms/step - loss: 113.6513\n",
            "Epoch 73/100\n",
            "63/63 [==============================] - 0s 3ms/step - loss: 109.6257\n",
            "Epoch 74/100\n",
            "63/63 [==============================] - 0s 3ms/step - loss: 86.6347\n",
            "Epoch 75/100\n",
            "63/63 [==============================] - 0s 3ms/step - loss: 203.3680\n",
            "Epoch 76/100\n",
            "63/63 [==============================] - 0s 3ms/step - loss: 1422.1631\n",
            "Epoch 77/100\n",
            "63/63 [==============================] - 0s 3ms/step - loss: 191.7379\n",
            "Epoch 78/100\n",
            "63/63 [==============================] - 0s 3ms/step - loss: 104.4229\n",
            "Epoch 79/100\n",
            "63/63 [==============================] - 0s 5ms/step - loss: 52.7212\n",
            "Epoch 80/100\n",
            "63/63 [==============================] - 0s 5ms/step - loss: 230.0167\n",
            "Epoch 81/100\n",
            "63/63 [==============================] - 0s 4ms/step - loss: 165.7647\n",
            "Epoch 82/100\n",
            "63/63 [==============================] - 0s 4ms/step - loss: 530.0208\n",
            "Epoch 83/100\n",
            "63/63 [==============================] - 0s 4ms/step - loss: 277.6012\n",
            "Epoch 84/100\n",
            "63/63 [==============================] - 0s 4ms/step - loss: 63.6053\n",
            "Epoch 85/100\n",
            "63/63 [==============================] - 0s 4ms/step - loss: 176.7411\n",
            "Epoch 86/100\n",
            "63/63 [==============================] - 0s 4ms/step - loss: 759.3782\n",
            "Epoch 87/100\n",
            "63/63 [==============================] - 0s 4ms/step - loss: 802.2251\n",
            "Epoch 88/100\n",
            "63/63 [==============================] - 0s 3ms/step - loss: 179.5533\n",
            "Epoch 89/100\n",
            "63/63 [==============================] - 0s 3ms/step - loss: 221.9490\n",
            "Epoch 90/100\n",
            "63/63 [==============================] - 0s 3ms/step - loss: 3579.4763\n",
            "Epoch 91/100\n",
            "63/63 [==============================] - 0s 3ms/step - loss: 5170.7964\n",
            "Epoch 92/100\n",
            "63/63 [==============================] - 0s 3ms/step - loss: 2243.0708\n",
            "Epoch 93/100\n",
            "63/63 [==============================] - 0s 3ms/step - loss: 298.7809\n",
            "Epoch 94/100\n",
            "63/63 [==============================] - 0s 3ms/step - loss: 827.1204\n",
            "Epoch 95/100\n",
            "63/63 [==============================] - 0s 3ms/step - loss: 1954.6343\n",
            "Epoch 96/100\n",
            "63/63 [==============================] - 0s 3ms/step - loss: 201.4606\n",
            "Epoch 97/100\n",
            "63/63 [==============================] - 0s 3ms/step - loss: 62.9666\n",
            "Epoch 98/100\n",
            "63/63 [==============================] - 0s 3ms/step - loss: 89.9032\n",
            "Epoch 99/100\n",
            "63/63 [==============================] - 0s 3ms/step - loss: 76.5814\n",
            "Epoch 100/100\n",
            "63/63 [==============================] - 0s 3ms/step - loss: 33.4224\n"
          ]
        },
        {
          "output_type": "execute_result",
          "data": {
            "text/plain": [
              "<keras.callbacks.History at 0x7fbb921903a0>"
            ]
          },
          "metadata": {},
          "execution_count": 34
        }
      ]
    },
    {
      "cell_type": "code",
      "source": [
        "y"
      ],
      "metadata": {
        "colab": {
          "base_uri": "https://localhost:8080/"
        },
        "id": "WzIi2DyasJ9Y",
        "outputId": "acbc0cdc-76e8-4c2f-c23e-168bf310c0cb"
      },
      "execution_count": 35,
      "outputs": [
        {
          "output_type": "execute_result",
          "data": {
            "text/plain": [
              "array([-2178.      , -2170.528297, -2163.073176, ...,  3551.247219,\n",
              "        3561.478776,  3571.729697])"
            ]
          },
          "metadata": {},
          "execution_count": 35
        }
      ]
    },
    {
      "cell_type": "code",
      "source": [
        "model.predict(np.array([-3,-2,-1,0,1,2,3]))"
      ],
      "metadata": {
        "colab": {
          "base_uri": "https://localhost:8080/"
        },
        "id": "hXMkWN4-xTXX",
        "outputId": "8838a2b8-efff-43ed-a2cc-7d7afa6d423c"
      },
      "execution_count": 41,
      "outputs": [
        {
          "output_type": "stream",
          "name": "stdout",
          "text": [
            "1/1 [==============================] - 0s 16ms/step\n"
          ]
        },
        {
          "output_type": "execute_result",
          "data": {
            "text/plain": [
              "array([[ 18.665812 ],\n",
              "       [ 28.836863 ],\n",
              "       [ 15.883552 ],\n",
              "       [  1.2794216],\n",
              "       [ -1.2705929],\n",
              "       [ 27.903185 ],\n",
              "       [107.78393  ]], dtype=float32)"
            ]
          },
          "metadata": {},
          "execution_count": 41
        }
      ]
    },
    {
      "cell_type": "code",
      "source": [
        "a = np.array([-3,-2,-1,0,1,2,3])\n",
        "b = 3*a**3 + 7*a**2 - 12*a + 2"
      ],
      "metadata": {
        "id": "Eh0ZC1oHzMlv"
      },
      "execution_count": 43,
      "outputs": []
    },
    {
      "cell_type": "code",
      "source": [
        "b"
      ],
      "metadata": {
        "colab": {
          "base_uri": "https://localhost:8080/"
        },
        "id": "sPvuIaZNzWfQ",
        "outputId": "cfbfd6bc-d968-4899-a063-00f6825a4c78"
      },
      "execution_count": 44,
      "outputs": [
        {
          "output_type": "execute_result",
          "data": {
            "text/plain": [
              "array([ 20,  30,  18,   2,   0,  30, 110])"
            ]
          },
          "metadata": {},
          "execution_count": 44
        }
      ]
    },
    {
      "cell_type": "code",
      "source": [
        "model.predict(a)"
      ],
      "metadata": {
        "colab": {
          "base_uri": "https://localhost:8080/"
        },
        "id": "TysDgHkazYUd",
        "outputId": "76fbf8ae-4695-47e1-820d-779c95cb76e8"
      },
      "execution_count": 45,
      "outputs": [
        {
          "output_type": "stream",
          "name": "stdout",
          "text": [
            "1/1 [==============================] - 0s 17ms/step\n"
          ]
        },
        {
          "output_type": "execute_result",
          "data": {
            "text/plain": [
              "array([[ 18.665812 ],\n",
              "       [ 28.836863 ],\n",
              "       [ 15.883552 ],\n",
              "       [  1.2794216],\n",
              "       [ -1.2705929],\n",
              "       [ 27.903185 ],\n",
              "       [107.78393  ]], dtype=float32)"
            ]
          },
          "metadata": {},
          "execution_count": 45
        }
      ]
    },
    {
      "cell_type": "code",
      "source": [
        "out = model.predict(a)"
      ],
      "metadata": {
        "colab": {
          "base_uri": "https://localhost:8080/"
        },
        "id": "iQemSw_62Yci",
        "outputId": "ea20fb96-c869-4157-8f26-2bd87c9dc1d4"
      },
      "execution_count": 48,
      "outputs": [
        {
          "output_type": "stream",
          "name": "stdout",
          "text": [
            "1/1 [==============================] - 0s 61ms/step\n"
          ]
        }
      ]
    },
    {
      "cell_type": "code",
      "source": [
        "from pprint import pprint\n",
        "i = 0\n",
        "for idx in range(-3,4):\n",
        "  print(\"x = {}, y = {res:.2f}\".format(idx, res=out[i][0]))\n",
        "  i += 1"
      ],
      "metadata": {
        "colab": {
          "base_uri": "https://localhost:8080/"
        },
        "id": "BBW8NC_B3-xx",
        "outputId": "916f07d1-ebd1-4caa-ceab-920c85c0c1d8"
      },
      "execution_count": 70,
      "outputs": [
        {
          "output_type": "stream",
          "name": "stdout",
          "text": [
            "x = -3, y = 18.67\n",
            "x = -2, y = 28.84\n",
            "x = -1, y = 15.88\n",
            "x = 0, y = 1.28\n",
            "x = 1, y = -1.27\n",
            "x = 2, y = 27.90\n",
            "x = 3, y = 107.78\n"
          ]
        }
      ]
    }
  ]
}